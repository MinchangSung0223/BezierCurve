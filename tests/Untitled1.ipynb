{
 "cells": [
  {
   "cell_type": "code",
   "execution_count": 10,
   "id": "c14df6e3",
   "metadata": {},
   "outputs": [],
   "source": [
    "%matplotlib widget\n",
    "\n",
    "from modern_robotics import *\n",
    "from BezierCurve import *\n",
    "import matplotlib.pyplot as plt\n",
    "import numpy as np\n",
    "pos_1 = [0,0,0]\n",
    "pos_2 = [1,1,1]\n",
    "pos_3 = [2,0,2]\n",
    "\n",
    "X1 = np.eye(4)\n",
    "X2 = np.eye(4)\n",
    "X3 = np.eye(4)\n",
    "\n",
    "X1[0:3,3] = pos_1\n",
    "X2[0:3,3] = pos_2\n",
    "X3[0:3,3] = pos_3\n",
    "\n",
    "Tf = 5 #sec\n",
    "N = 1000"
   ]
  },
  {
   "cell_type": "code",
   "execution_count": 11,
   "id": "f819dfac",
   "metadata": {},
   "outputs": [
    {
     "ename": "TypeError",
     "evalue": "CartesianTrajectory() missing 1 required positional argument: 'method'",
     "output_type": "error",
     "traceback": [
      "\u001b[0;31m---------------------------------------------------------------------------\u001b[0m",
      "\u001b[0;31mTypeError\u001b[0m                                 Traceback (most recent call last)",
      "Input \u001b[0;32mIn [11]\u001b[0m, in \u001b[0;36m<cell line: 3>\u001b[0;34m()\u001b[0m\n\u001b[1;32m      1\u001b[0m X_list \u001b[38;5;241m=\u001b[39m [X1,X2,X3]\n\u001b[1;32m      2\u001b[0m s \u001b[38;5;241m=\u001b[39m \u001b[38;5;241m0\u001b[39m\n\u001b[0;32m----> 3\u001b[0m \u001b[43mCartesianTrajectory\u001b[49m\u001b[43m(\u001b[49m\u001b[43mX_list\u001b[49m\u001b[43m,\u001b[49m\u001b[43mTf\u001b[49m\u001b[43m,\u001b[49m\u001b[43mN\u001b[49m\u001b[43m,\u001b[49m\u001b[43ms\u001b[49m\u001b[43m)\u001b[49m\n",
      "\u001b[0;31mTypeError\u001b[0m: CartesianTrajectory() missing 1 required positional argument: 'method'"
     ]
    }
   ],
   "source": [
    "X_list = [X1,X2,X3]\n",
    "s = 0\n",
    "CartesianTrajectory(X_list,Tf,N,s)\n"
   ]
  },
  {
   "cell_type": "code",
   "execution_count": null,
   "id": "f70b3b8f",
   "metadata": {},
   "outputs": [],
   "source": []
  }
 ],
 "metadata": {
  "kernelspec": {
   "display_name": "Python 3 (ipykernel)",
   "language": "python",
   "name": "python3"
  },
  "language_info": {
   "codemirror_mode": {
    "name": "ipython",
    "version": 3
   },
   "file_extension": ".py",
   "mimetype": "text/x-python",
   "name": "python",
   "nbconvert_exporter": "python",
   "pygments_lexer": "ipython3",
   "version": "3.8.10"
  }
 },
 "nbformat": 4,
 "nbformat_minor": 5
}
